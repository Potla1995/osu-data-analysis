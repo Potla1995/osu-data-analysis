{
 "cells": [
  {
   "cell_type": "markdown",
   "metadata": {},
   "source": [
    "# Analysis of beatmaps in Rhythm Games: a case study with \"osu!\"\n",
    "\n",
    "**Abstract**. We propose to analyze beatmaps (maps that are usually text-based and are designed by human users to represent songs) and use our own function to classify/detect different mapping styles. We measure the evolution of average difficulty in each class over time to infer trends. Next, we propose a way of using Machine Learning to _create new beatmaps in each class without human intervention_.\n",
    "\n",
    "## Introduction\n",
    "Rhythm games are a very specific type of video games which usually involve doing some repetitive action in rhythm with a music playing in the background. Popular examples of such games are _Beat Saber, Piano Tiles, Bang Dream, Guitar Hero_ to name a few. In each of these games, the community creates their own mental representation of the songs and usually put them into a text-based file which is then rendered by the game engine at real time.\n",
    "\n",
    "We focus on a specific rhythm game called [osu!](https://osu.ppy.sh), where the gameplay consists of objects appearing on the screen which the player is supposed to hit on time with the music, and the player gets a final score depending on how accurately they hit the notes.\n",
    "\n",
    "We selected _osu!_ because all their ranked beatmaps since 2007 can be downloaded online [via this link](https://drive.google.com/drive/folders/13VvNppE_QvqFXOKhXG2hvewZU9PojpRh), and since I'm familiar with the gameplay.\n",
    "\n",
    "## Data Organization\n",
    "Here's how the data is organized:\n",
    "+ Each folder contains all archives (effectively .zip files) of ranked beatmaps\n",
    "+ Each archive contains a music file, several beatmap files, and other stuff (pictures and such).\n",
    "+ Each beatmap file contains information about the music, followed by information on what object appears at what time. For example, the following code represents a _hitcircle_ object at time 80479ms appearing at position (170px,146px), followed by another object appearing at (200px,138px) at time 80570ms, followed by another _slider_ object starting at (233px,130px) at time 80661ms, and with beizer-type anchors at (294,126),(294,126),(341,144),(341,144),(400,139), of total duration 170ms.\n",
    "```\n",
    "170,146,80479,1,8,0:0:0:0:\n",
    "200,138,80570,1,0,0:0:0:0:\n",
    "233,130,80661,6,0,B|294:126|294:126|341:144|341:144|400:139,1,170.000003242493,14|10,0:0|0:0,0:0:0:0:\n",
    "512,130,81206,1,0,0:0:0:0:\n",
    "```\n",
    "\n",
    "## Data Extraction\n",
    "We first extract the .osu files from each archive by running the following in each directory:\n",
    "```bash\n",
    "for f in *.osz; do mv \"$f\" \"$f.zip\"; done;\n",
    "for f in *.zip; do unzip -q \"$f\"; done;\n",
    "mkdir osu/\n",
    "mv *.osu ./osu\n",
    "```\n",
    "\n",
    "## Difficulty Computation\n",
    "We have implemented a beatmap difficulty calculator in 2019, which is available in [this repository](https://github.com/Potla1995/POT_Bot/tree/master/POT_Bot). The difficulty measurement function is implemented in `sharpness.py`. We use this project, make some changes, and create a table of difficulty of each beatmap.\n",
    "\n",
    "```bash\n",
    "git clone https://github.com/Potla1995/POT_BOT\n",
    "cd POT_BOT/POT_Bot/\n",
    "# Uncomment the last few lines in sharpness.py\n",
    "# Modify sharpness.py to iterate over all the extracted .osu files\n",
    "python3 sharpness.py\n",
    "```\n",
    "\n",
    "The table obtained is then made into a dictionary, and copied over into this notebook."
   ]
  },
  {
   "cell_type": "code",
   "execution_count": 39,
   "metadata": {},
   "outputs": [
    {
     "name": "stdout",
     "output_type": "stream",
     "text": [
      "373\n",
      "325\n",
      "389\n"
     ]
    }
   ],
   "source": [
    "from dictionary_data import *\n",
    "print(len(jan_2019_diff))\n",
    "print(len(feb_2019_diff))\n",
    "print(len(mar_2019_diff))"
   ]
  },
  {
   "cell_type": "markdown",
   "metadata": {},
   "source": [
    "Let us now only look at maps which have a difficulty value at least 2."
   ]
  },
  {
   "cell_type": "code",
   "execution_count": 42,
   "metadata": {},
   "outputs": [
    {
     "name": "stdout",
     "output_type": "stream",
     "text": [
      "21\n",
      "21\n",
      "21\n",
      "22\n",
      "23\n",
      "17\n"
     ]
    }
   ],
   "source": [
    "print(len(jan_2019_hard))\n",
    "print(len(feb_2019_hard))\n",
    "print(len(mar_2019_hard))\n",
    "# For some reason importing the other three variables was not working and I'm running out of time...\n",
    "# So here are the other three lists, manually:\n",
    "apr_2019_hard = [2.0471209158611705, 4.112124100757871, 3.1133676690614633, 2.082104488924114, 2.2576191898905833, 2.6387937597020366, 2.331501074986375, 5.061243174016914, 3.432087635141496, 2.0983228588001177, 2.254441946268222, 2.274118575159883, 4.806021267075159, 2.106356881344403, 2.0310986535867372, 2.2739915727335145, 2.4785376489064457, 2.006995235002308, 2.003470345364621, 2.4679167081983517, 3.548181793365983, 2.423070352131367]\n",
    "may_2019_hard = [2.3151316378601057, 2.7512434378460844, 2.4177741094836773, 2.264852709893654, 2.3865183433922703, 4.3888839676379625, 2.335975015403818, 2.3103253598074387, 2.634928467978433, 3.293722277876503, 2.2512485626611674, 2.5758011789849258, 3.704161410483924, 3.531324945380214, 2.0751294715091277, 2.077858733697044, 2.282508773360554, 2.139537930707267, 2.044987256534506, 2.0214353744099496, 2.1985636568532665, 2.111706233618518, 2.6000098459035397]\n",
    "jun_2019_hard = [2.1856161759493324, 2.3359693775155925, 2.285607531670973, 2.1155972052701673, 2.1710455079765927, 2.0126060915282746, 3.4417659362429447, 3.0559944272029735, 2.6160120560486475, 3.7789681006444713, 4.1439290118880034, 2.579385956252626, 3.041611289312401, 3.0546594975846553, 2.026800700221406, 2.1896658275140286, 2.6839303463104076]\n",
    "print(len(apr_2019_hard))\n",
    "print(len(may_2019_hard))\n",
    "print(len(jun_2019_hard))\n",
    "\n",
    "months_2019_hard = [jan_2019_hard, feb_2019_hard, mar_2019_hard, apr_2019_hard, may_2019_hard, jun_2019_hard]"
   ]
  },
  {
   "cell_type": "code",
   "execution_count": 43,
   "metadata": {
    "scrolled": true
   },
   "outputs": [
    {
     "name": "stdout",
     "output_type": "stream",
     "text": [
      "2.472765331535712\n",
      "2.413782029053611\n",
      "2.6505877183467894\n",
      "2.7203857202854156\n",
      "2.552766465273215\n",
      "2.6893626493607936\n"
     ]
    }
   ],
   "source": [
    "# We now have the difficulty values for hard maps for the first six months of 2019.\n",
    "# Let's see their means:\n",
    "import numpy as np\n",
    "for i in months_2019_hard:\n",
    "    print(np.mean(i))"
   ]
  },
  {
   "cell_type": "code",
   "execution_count": 44,
   "metadata": {},
   "outputs": [
    {
     "data": {
      "image/png": "[encoded data removed]",
      "text/plain": [
       "<Figure size 432x288 with 1 Axes>"
      ]
     },
     "metadata": {
      "needs_background": "light"
     },
     "output_type": "display_data"
    }
   ],
   "source": [
    "# While it's not obvious from this small dataset, there is a gradual increase in difficulty.\n",
    "# Let's do a scatterplot\n",
    "from matplotlib import pyplot as plt\n",
    "%matplotlib inline\n",
    "\n",
    "for i in range(6):\n",
    "    for j in months_2019_hard[i]:\n",
    "        plt.scatter(i,j)\n",
    "plt.show()"
   ]
  },
  {
   "cell_type": "markdown",
   "metadata": {},
   "source": [
    "In order to be more precise with the scatter, we can determine the exact dates on which the beatmaps were made available.\n",
    "\n",
    "We wanted to prove that the difficulty distribution is non-uniform, and increases with time. We can see whether this is true using a chi squared test."
   ]
  },
  {
   "cell_type": "code",
   "execution_count": 45,
   "metadata": {},
   "outputs": [
    {
     "name": "stdout",
     "output_type": "stream",
     "text": [
      "Power_divergenceResult(statistic=0.029596526175394548, pvalue=0.9999920683738542)\n"
     ]
    }
   ],
   "source": [
    "import scipy.stats\n",
    "print(scipy.stats.chisquare([np.mean(months_2019_hard[i]) for i in range(6)]))"
   ]
  },
  {
   "cell_type": "markdown",
   "metadata": {},
   "source": [
    "Whoops, clearly this is not enough data to be able to deduce anything of substance. Let's move over to the concluding section.\n",
    "\n",
    "## Goal of this project\n",
    "The ultimate goal of this project is twofold.\n",
    "### 1. Predict map difficulty in the future.\n",
    "There is a lot of data available to us, and there is a generic trend that beatmaps get harder with time as players get more and more accustomed to the game. We would like to fit a curve onto the growth rate of the difficulty of submitted beatmaps to prove this hypothesis, and predict where the difficulty level would be in the future.\n",
    "\n",
    "There are also different ways of measuring difficulties, including the official way, which is quite complex and is ever-evolving!\n",
    "### 2. Use learning to creat machine-generated beatmaps.\n",
    "The problem with the current game model is that there are too many songs, and too few users who can represent the music properly. The goal of this project would be to analyze how beatmaps of a particular difficulty range are made, and learn the characteristics. Then together with the audio file for guidelines, to generate a beatmap.\n",
    "\n",
    "## Complexity\n",
    "This is actually pretty complex. For now we have thrown audio analysis out of the window, and are only hoping to learn things from the text-based beatmap files. This is fine for the first goal, but in order to actually create beatmaps one would also have to look at the audio signatures.\n",
    "\n",
    "In conclusion, if this project can be done, it would be immensely helpful to video game companies that rely on their userbase or staff to create beatmaps representing songs."
   ]
  }
 ],
 "metadata": {
  "kernelspec": {
   "display_name": "Python 3",
   "language": "python",
   "name": "python3"
  },
  "language_info": {
   "codemirror_mode": {
    "name": "ipython",
    "version": 3
   },
   "file_extension": ".py",
   "mimetype": "text/x-python",
   "name": "python",
   "nbconvert_exporter": "python",
   "pygments_lexer": "ipython3",
   "version": "3.7.7"
  }
 },
 "nbformat": 4,
 "nbformat_minor": 4
}
